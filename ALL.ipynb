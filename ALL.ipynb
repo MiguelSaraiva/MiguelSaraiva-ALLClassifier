{
 "cells": [
  {
   "cell_type": "code",
   "execution_count": 29,
   "metadata": {},
   "outputs": [],
   "source": [
    "from keras.layers import Input, Lambda, Dense, Flatten\n",
    "from keras.models import Model\n",
    "from keras.applications.vgg16 import VGG16\n",
    "from keras.applications.vgg16 import preprocess_input\n",
    "from keras.preprocessing.image import ImageDataGenerator\n",
    "from keras import optimizers\n",
    "from datetime import datetime\n",
    "from keras.callbacks import ModelCheckpoint\n",
    "from sklearn.metrics import precision_score, recall_score\n",
    "from tensorflow.keras.models import load_model\n",
    "from glob import glob\n",
    "\n",
    "import warnings\n",
    "warnings.filterwarnings(\"ignore\", category=FutureWarning)"
   ]
  },
  {
   "cell_type": "code",
   "execution_count": 30,
   "metadata": {},
   "outputs": [],
   "source": [
    "train_path = 'Original\\Train'\n",
    "test_path = 'Original\\Test'"
   ]
  },
  {
   "cell_type": "code",
   "execution_count": 31,
   "metadata": {},
   "outputs": [],
   "source": [
    "vgg = VGG16(input_shape=[224, 224, 3], weights='imagenet', include_top=False)"
   ]
  },
  {
   "cell_type": "code",
   "execution_count": 32,
   "metadata": {},
   "outputs": [],
   "source": [
    "for layer in vgg.layers:\n",
    "    layer.trainable = False"
   ]
  },
  {
   "cell_type": "code",
   "execution_count": 33,
   "metadata": {},
   "outputs": [
    {
     "name": "stdout",
     "output_type": "stream",
     "text": [
      "2\n"
     ]
    }
   ],
   "source": [
    "folders = glob('Original\\Train\\*')\n",
    "print(len(folders))"
   ]
  },
  {
   "cell_type": "code",
   "execution_count": 34,
   "metadata": {},
   "outputs": [
    {
     "name": "stdout",
     "output_type": "stream",
     "text": [
      "Model: \"model_1\"\n",
      "_________________________________________________________________\n",
      " Layer (type)                Output Shape              Param #   \n",
      "=================================================================\n",
      " input_2 (InputLayer)        [(None, 224, 224, 3)]     0         \n",
      "                                                                 \n",
      " block1_conv1 (Conv2D)       (None, 224, 224, 64)      1792      \n",
      "                                                                 \n",
      " block1_conv2 (Conv2D)       (None, 224, 224, 64)      36928     \n",
      "                                                                 \n",
      " block1_pool (MaxPooling2D)  (None, 112, 112, 64)      0         \n",
      "                                                                 \n",
      " block2_conv1 (Conv2D)       (None, 112, 112, 128)     73856     \n",
      "                                                                 \n",
      " block2_conv2 (Conv2D)       (None, 112, 112, 128)     147584    \n",
      "                                                                 \n",
      " block2_pool (MaxPooling2D)  (None, 56, 56, 128)       0         \n",
      "                                                                 \n",
      " block3_conv1 (Conv2D)       (None, 56, 56, 256)       295168    \n",
      "                                                                 \n",
      " block3_conv2 (Conv2D)       (None, 56, 56, 256)       590080    \n",
      "                                                                 \n",
      " block3_conv3 (Conv2D)       (None, 56, 56, 256)       590080    \n",
      "                                                                 \n",
      " block3_pool (MaxPooling2D)  (None, 28, 28, 256)       0         \n",
      "                                                                 \n",
      " block4_conv1 (Conv2D)       (None, 28, 28, 512)       1180160   \n",
      "                                                                 \n",
      " block4_conv2 (Conv2D)       (None, 28, 28, 512)       2359808   \n",
      "                                                                 \n",
      " block4_conv3 (Conv2D)       (None, 28, 28, 512)       2359808   \n",
      "                                                                 \n",
      " block4_pool (MaxPooling2D)  (None, 14, 14, 512)       0         \n",
      "                                                                 \n",
      " block5_conv1 (Conv2D)       (None, 14, 14, 512)       2359808   \n",
      "                                                                 \n",
      " block5_conv2 (Conv2D)       (None, 14, 14, 512)       2359808   \n",
      "                                                                 \n",
      " block5_conv3 (Conv2D)       (None, 14, 14, 512)       2359808   \n",
      "                                                                 \n",
      " block5_pool (MaxPooling2D)  (None, 7, 7, 512)         0         \n",
      "                                                                 \n",
      " flatten_1 (Flatten)         (None, 25088)             0         \n",
      "                                                                 \n",
      " dense_1 (Dense)             (None, 2)                 50178     \n",
      "                                                                 \n",
      "=================================================================\n",
      "Total params: 14764866 (56.32 MB)\n",
      "Trainable params: 50178 (196.01 KB)\n",
      "Non-trainable params: 14714688 (56.13 MB)\n",
      "_________________________________________________________________\n"
     ]
    }
   ],
   "source": [
    "x = Flatten()(vgg.output)\n",
    "prediction = Dense(len(folders), activation='sigmoid')(x)\n",
    "model = Model(inputs=vgg.input, outputs=prediction)\n",
    "model.summary()"
   ]
  },
  {
   "cell_type": "code",
   "execution_count": 35,
   "metadata": {},
   "outputs": [],
   "source": [
    "adam = optimizers.Adam()\n",
    "model.compile(loss='binary_crossentropy',\n",
    "              optimizer=adam,\n",
    "              metrics=['accuracy'])"
   ]
  },
  {
   "cell_type": "code",
   "execution_count": 36,
   "metadata": {},
   "outputs": [],
   "source": [
    "data_generator = ImageDataGenerator(\n",
    "    preprocessing_function = preprocess_input\n",
    ")"
   ]
  },
  {
   "cell_type": "code",
   "execution_count": 37,
   "metadata": {},
   "outputs": [
    {
     "name": "stdout",
     "output_type": "stream",
     "text": [
      "Found 4473 images belonging to 2 classes.\n"
     ]
    }
   ],
   "source": [
    "training_data = data_generator.flow_from_directory(train_path,\n",
    "                                                 target_size = (224, 224),\n",
    "                                                 batch_size = 8,\n",
    "                                                 class_mode = 'categorical')"
   ]
  },
  {
   "cell_type": "code",
   "execution_count": 38,
   "metadata": {},
   "outputs": [
    {
     "name": "stdout",
     "output_type": "stream",
     "text": [
      "Found 651 images belonging to 2 classes.\n"
     ]
    }
   ],
   "source": [
    "testing_data = data_generator.flow_from_directory(test_path,\n",
    "                                                 target_size = (224, 224),\n",
    "                                                 batch_size = 8,\n",
    "                                                 class_mode = 'categorical')"
   ]
  },
  {
   "cell_type": "code",
   "execution_count": 39,
   "metadata": {},
   "outputs": [],
   "source": [
    "checkpoint = ModelCheckpoint(filepath = 'Model1.h5', verbose = 2, save_best_only = True)"
   ]
  },
  {
   "cell_type": "code",
   "execution_count": 40,
   "metadata": {},
   "outputs": [
    {
     "name": "stdout",
     "output_type": "stream",
     "text": [
      "Epoch 1/10\n",
      "5/5 [==============================] - ETA: 0s - loss: 1.5807 - accuracy: 0.8500\n",
      "Epoch 1: val_loss improved from inf to 2.65325, saving model to Model1.h5\n",
      "5/5 [==============================] - 26s 6s/step - loss: 1.5807 - accuracy: 0.8500 - val_loss: 2.6533 - val_accuracy: 0.8828\n",
      "Epoch 2/10\n"
     ]
    },
    {
     "name": "stderr",
     "output_type": "stream",
     "text": [
      "C:\\Users\\migue\\AppData\\Local\\Packages\\PythonSoftwareFoundation.Python.3.10_qbz5n2kfra8p0\\LocalCache\\local-packages\\Python310\\site-packages\\keras\\src\\engine\\training.py:3000: UserWarning: You are saving your model as an HDF5 file via `model.save()`. This file format is considered legacy. We recommend using instead the native Keras format, e.g. `model.save('my_model.keras')`.\n",
      "  saving_api.save_model(\n"
     ]
    },
    {
     "name": "stdout",
     "output_type": "stream",
     "text": [
      "5/5 [==============================] - ETA: 0s - loss: 3.1302 - accuracy: 0.8250\n",
      "Epoch 2: val_loss did not improve from 2.65325\n",
      "5/5 [==============================] - 25s 6s/step - loss: 3.1302 - accuracy: 0.8250 - val_loss: 3.7060 - val_accuracy: 0.5508\n",
      "Epoch 3/10\n",
      "5/5 [==============================] - ETA: 0s - loss: 1.1584 - accuracy: 0.8750\n",
      "Epoch 3: val_loss improved from 2.65325 to 1.66883, saving model to Model1.h5\n",
      "5/5 [==============================] - 25s 6s/step - loss: 1.1584 - accuracy: 0.8750 - val_loss: 1.6688 - val_accuracy: 0.7734\n",
      "Epoch 4/10\n",
      "5/5 [==============================] - ETA: 0s - loss: 1.0928 - accuracy: 0.8750\n",
      "Epoch 4: val_loss did not improve from 1.66883\n",
      "5/5 [==============================] - 25s 6s/step - loss: 1.0928 - accuracy: 0.8750 - val_loss: 2.3382 - val_accuracy: 0.8398\n",
      "Epoch 5/10\n",
      "5/5 [==============================] - ETA: 0s - loss: 1.1447 - accuracy: 0.8750\n",
      "Epoch 5: val_loss improved from 1.66883 to 1.62975, saving model to Model1.h5\n",
      "5/5 [==============================] - 26s 6s/step - loss: 1.1447 - accuracy: 0.8750 - val_loss: 1.6298 - val_accuracy: 0.8672\n",
      "Epoch 6/10\n",
      "5/5 [==============================] - ETA: 0s - loss: 0.2518 - accuracy: 0.9500\n",
      "Epoch 6: val_loss improved from 1.62975 to 1.61123, saving model to Model1.h5\n",
      "5/5 [==============================] - 26s 6s/step - loss: 0.2518 - accuracy: 0.9500 - val_loss: 1.6112 - val_accuracy: 0.7930\n",
      "Epoch 7/10\n",
      "5/5 [==============================] - ETA: 0s - loss: 0.8163 - accuracy: 0.8750\n",
      "Epoch 7: val_loss improved from 1.61123 to 1.06895, saving model to Model1.h5\n",
      "5/5 [==============================] - 26s 6s/step - loss: 0.8163 - accuracy: 0.8750 - val_loss: 1.0689 - val_accuracy: 0.9102\n",
      "Epoch 8/10\n",
      "5/5 [==============================] - ETA: 0s - loss: 1.3203 - accuracy: 0.8750\n",
      "Epoch 8: val_loss improved from 1.06895 to 0.82666, saving model to Model1.h5\n",
      "5/5 [==============================] - 26s 6s/step - loss: 1.3203 - accuracy: 0.8750 - val_loss: 0.8267 - val_accuracy: 0.9375\n",
      "Epoch 9/10\n",
      "5/5 [==============================] - ETA: 0s - loss: 0.4716 - accuracy: 0.9750\n",
      "Epoch 9: val_loss did not improve from 0.82666\n",
      "5/5 [==============================] - 26s 6s/step - loss: 0.4716 - accuracy: 0.9750 - val_loss: 1.3942 - val_accuracy: 0.8477\n",
      "Epoch 10/10\n",
      "5/5 [==============================] - ETA: 0s - loss: 0.8342 - accuracy: 0.9250\n",
      "Epoch 10: val_loss improved from 0.82666 to 0.64513, saving model to Model1.h5\n",
      "5/5 [==============================] - 26s 6s/step - loss: 0.8342 - accuracy: 0.9250 - val_loss: 0.6451 - val_accuracy: 0.9375\n",
      "Training time:  0:04:15.557496\n"
     ]
    }
   ],
   "source": [
    "callbacks = [checkpoint]\n",
    "\n",
    "start = datetime.now()\n",
    "\n",
    "model_history = model.fit(\n",
    "    training_data,\n",
    "    validation_data = testing_data,\n",
    "    epochs = 10,\n",
    "    steps_per_epoch = 5,\n",
    "    validation_steps = 32,\n",
    "    callbacks = callbacks, verbose = 1,\n",
    ")\n",
    "\n",
    "duration = datetime.now() - start\n",
    "\n",
    "print('Training time: ' , duration)"
   ]
  },
  {
   "cell_type": "markdown",
   "metadata": {},
   "source": [
    "//////////////////////////////////////////////////////////////////////////////////////////////////////////////////////////////////////////////////////////////////////////////////////////////////////////////////////////////////////////////////////////////////////////////////////"
   ]
  },
  {
   "cell_type": "code",
   "execution_count": 41,
   "metadata": {},
   "outputs": [],
   "source": [
    "model = load_model('model1.h5')"
   ]
  },
  {
   "cell_type": "code",
   "execution_count": null,
   "metadata": {},
   "outputs": [],
   "source": [
    "predictions = model.predict(testing_data)\n",
    "\n",
    "predicted_classes = predictions.argmax(axis=1)\n",
    "\n",
    "true_classes = testing_data.classes\n",
    "\n",
    "precision = precision_score(true_classes, predicted_classes)\n",
    "recall = recall_score(true_classes, predicted_classes)\n",
    "\n",
    "print(\"Precision:\", precision)\n",
    "print(\"Recall:\", recall)"
   ]
  },
  {
   "cell_type": "markdown",
   "metadata": {},
   "source": [
    "//////////////////////////////////////////////////////////////////////////////////////////////////////////////////////////////////////////////////////////////////////////////////////////////////////////////////////////////////////////////////////////////////////////////////////\n",
    "\n",
    "                                                                                                                      ARTIFICIALLY INCREASE THE BENIGN SAMPLE SIZE"
   ]
  },
  {
   "cell_type": "code",
   "execution_count": 21,
   "metadata": {},
   "outputs": [],
   "source": [
    "# from PIL import Image\n",
    "# import os\n",
    "# import random\n",
    "\n",
    "# benign_dir = 'Original/Train/Benign'\n",
    "\n",
    "# def rotate_and_save(image_path, output_path, rotation_range=(-40, 40)):\n",
    "#     # Open the image\n",
    "#     image = Image.open(image_path)\n",
    "    \n",
    "#     # Randomly choose rotation angle within the specified range\n",
    "#     rotation_angle = random.randint(rotation_range[0], rotation_range[1])\n",
    "    \n",
    "#     # Rotate the image\n",
    "#     rotated_image = image.rotate(rotation_angle)\n",
    "    \n",
    "#     # Save the rotated image\n",
    "#     rotated_image.save(output_path)\n",
    "\n",
    "# # Loop through each benign image and apply rotation\n",
    "# for filename in os.listdir(benign_dir):\n",
    "#     if filename.endswith('.jpg') or filename.endswith('.png'):  # Adjust file extensions as needed\n",
    "#         # Path to the original image\n",
    "#         image_path = os.path.join(benign_dir, filename)\n",
    "        \n",
    "#         # Path for the rotated image (you can adjust how you want to name the rotated files)\n",
    "#         output_path = os.path.join(benign_dir, 'rotated_3' + filename)\n",
    "        \n",
    "#         # Apply rotation and save the rotated image\n",
    "#         rotate_and_save(image_path, output_path)\n"
   ]
  }
 ],
 "metadata": {
  "kernelspec": {
   "display_name": "Python 3",
   "language": "python",
   "name": "python3"
  },
  "language_info": {
   "codemirror_mode": {
    "name": "ipython",
    "version": 3
   },
   "file_extension": ".py",
   "mimetype": "text/x-python",
   "name": "python",
   "nbconvert_exporter": "python",
   "pygments_lexer": "ipython3",
   "version": "3.10.11"
  }
 },
 "nbformat": 4,
 "nbformat_minor": 2
}
